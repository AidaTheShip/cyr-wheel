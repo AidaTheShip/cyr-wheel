{
 "cells": [
  {
   "cell_type": "code",
   "execution_count": null,
   "metadata": {},
   "outputs": [
    {
     "ename": "",
     "evalue": "",
     "output_type": "error",
     "traceback": [
      "\u001b[1;31mRunning cells with '/opt/homebrew/bin/python3' requires the ipykernel package.\n",
      "\u001b[1;31mRun the following command to install 'ipykernel' into the Python environment. \n",
      "\u001b[1;31mCommand: '/opt/homebrew/bin/python3 -m pip install ipykernel -U --user --force-reinstall'"
     ]
    }
   ],
   "source": [
    "import time \n",
    "import itertools \n",
    "import numpy as np\n",
    "import mediapy as media\n",
    "import matplotlib.pyplot as plt\n",
    "import mujoco\n",
    "import distutils.util\n",
    "import os\n",
    "import subprocess\n"
   ]
  },
  {
   "cell_type": "code",
   "execution_count": 1,
   "metadata": {},
   "outputs": [
    {
     "ename": "NameError",
     "evalue": "name 'np' is not defined",
     "output_type": "error",
     "traceback": [
      "\u001b[0;31m---------------------------------------------------------------------------\u001b[0m",
      "\u001b[0;31mNameError\u001b[0m                                 Traceback (most recent call last)",
      "Cell \u001b[0;32mIn[1], line 1\u001b[0m\n\u001b[0;32m----> 1\u001b[0m \u001b[43mnp\u001b[49m\u001b[38;5;241m.\u001b[39mset_printoptions(precision\u001b[38;5;241m=\u001b[39m\u001b[38;5;241m3\u001b[39m, suppress\u001b[38;5;241m=\u001b[39m\u001b[38;5;28;01mTrue\u001b[39;00m, linewidth\u001b[38;5;241m=\u001b[39m\u001b[38;5;241m100\u001b[39m)\n\u001b[1;32m      3\u001b[0m \u001b[38;5;66;03m# Defining the wheel here...\u001b[39;00m\n\u001b[1;32m      4\u001b[0m xml \u001b[38;5;241m=\u001b[39m \u001b[38;5;124m\"\"\"\u001b[39m\n\u001b[1;32m      5\u001b[0m \u001b[38;5;124m<mujoco>\u001b[39m\n\u001b[1;32m      6\u001b[0m \u001b[38;5;124m  <extension>\u001b[39m\n\u001b[0;32m   (...)\u001b[0m\n\u001b[1;32m     42\u001b[0m \u001b[38;5;124m</mujoco>\u001b[39m\n\u001b[1;32m     43\u001b[0m \u001b[38;5;124m\"\"\"\u001b[39m\n",
      "\u001b[0;31mNameError\u001b[0m: name 'np' is not defined"
     ]
    }
   ],
   "source": [
    "\n",
    "\n",
    "np.set_printoptions(precision=3, suppress=True, linewidth=100)\n",
    "\n",
    "# Defining the wheel here...\n",
    "xml = \"\"\"\n",
    "<mujoco>\n",
    "  <extension>\n",
    "    <plugin plugin=\"mujoco.sdf.torus\">\n",
    "      <instance name=\"torus\">\n",
    "        <config key=\"radius1\" value=\"1.5\"/>\n",
    "        <config key=\"radius2\" value=\"0.10\"/>\n",
    "      </instance>\n",
    "    </plugin>\n",
    "  </extension>\n",
    "\n",
    "  <asset>\n",
    "    <mesh name=\"torus\">\n",
    "      <plugin instance=\"torus\"/>\n",
    "    </mesh>\n",
    "    <texture name=\"grid\" type=\"2d\" builtin=\"checker\" rgb1=\".1 .2 .3\" rgb2=\".2 .3 .4\" width=\"300\" height=\"300\"/>\n",
    "    <material name=\"grid\" texture=\"grid\" texrepeat=\"8 8\" reflectance=\".2\"/>\n",
    "  </asset>\n",
    "\n",
    "  <option sdf_iterations=\"10\" sdf_initpoints=\"40\"/>\n",
    "\n",
    "  <default>\n",
    "    <geom solref=\"0.01 1\" solimp=\".95 .99 .0001\" friction=\"0.1\"/>\n",
    "  </default>\n",
    "\n",
    "  <worldbody>\n",
    "      <geom size=\"4 4 4\" type=\"plane\" material=\"grid\"/>\n",
    "    <body pos=\"1 0 0\">\n",
    "      <freejoint/>\n",
    "      <geom type=\"sdf\" mesh=\"torus\" rgba=\".2 .2 .8 1\" euler=\"10 90 10\" >\n",
    "        <plugin instance=\"torus\"/>\n",
    "      </geom>\n",
    "    </body>\n",
    "    <light name=\"left\" pos=\"-2 0 7\" cutoff=\"80\"/>\n",
    "    <light name=\"right\" pos=\"2 0 7\" cutoff=\"80\"/>\n",
    "    \n",
    "  </worldbody>\n",
    "  <keyframe>\n",
    "    <key name=\"spinning\" qpos=\"0 0 4 0 0 0 0\" qvel=\"0 0 0 0 0 0\" />  #See read.me for d.o.f\n",
    "  </keyframe>\n",
    "</mujoco>\n",
    "\"\"\"\n",
    "\n",
    "model = mujoco.MjModel.from_xml_string(xml) # this makes a model out of the xml such that we can use it. \n",
    "\n",
    "data = mujoco.MjData(model)\n",
    "\n",
    "# Make renderer, render and show the pixels\n",
    "renderer = mujoco.Renderer(model)\n",
    "# media.show_image(renderer.render())\n",
    "\n",
    "mujoco.mj_forward(model, data)\n",
    "renderer.update_scene(data)\n",
    "\n",
    "media.show_image(renderer.render())"
   ]
  },
  {
   "cell_type": "code",
   "execution_count": null,
   "metadata": {},
   "outputs": [],
   "source": [
    "# THIS IS FOR THE WHEEL WITHOUT THE KEYFRAME!!!!!\n",
    "np.set_printoptions(precision=3, suppress=True, linewidth=100)\n",
    "\n",
    "# Defining the wheel here...\n",
    "xml = \"\"\"\n",
    "<mujoco>\n",
    "  <extension>\n",
    "    <plugin plugin=\"mujoco.sdf.torus\">\n",
    "      <instance name=\"torus\">\n",
    "        <config key=\"radius1\" value=\"1.5\"/>\n",
    "        <config key=\"radius2\" value=\"0.10\"/>\n",
    "      </instance>\n",
    "    </plugin>\n",
    "  </extension>\n",
    "\n",
    "  <asset>\n",
    "    <mesh name=\"torus\">\n",
    "      <plugin instance=\"torus\"/>\n",
    "    </mesh>\n",
    "    <texture name=\"grid\" type=\"2d\" builtin=\"checker\" rgb1=\".1 .2 .3\" rgb2=\".2 .3 .4\" width=\"300\" height=\"300\"/>\n",
    "    <material name=\"grid\" texture=\"grid\" texrepeat=\"8 8\" reflectance=\".2\"/>\n",
    "  </asset>\n",
    "\n",
    "  <option sdf_iterations=\"10\" sdf_initpoints=\"40\"/>\n",
    "\n",
    "  <default>\n",
    "    <geom solref=\"0.01 1\" solimp=\".95 .99 .0001\" friction=\"0.1\"/>\n",
    "  </default>\n",
    "\n",
    "  <worldbody>\n",
    "      <geom size=\"4 4 4\" type=\"plane\" material=\"grid\"/>\n",
    "    <body pos=\"1 0 1\">\n",
    "      <joint type=\"free\" axis=\"0.4 0 0 \"/>\n",
    "      <geom type=\"sdf\" mesh=\"torus\" rgba=\".2 .2 .8 1\" euler=\"10 45 10\" mass=\"1\" >\n",
    "        <plugin instance=\"torus\"/>\n",
    "      </geom>\n",
    "    </body>\n",
    "\n",
    "    <light name=\"left\" pos=\"-2 0 7\" cutoff=\"80\"/>\n",
    "    <light name=\"right\" pos=\"2 0 7\" cutoff=\"80\"/>\n",
    "\n",
    "  </worldbody>\n",
    "</mujoco>\n",
    "\"\"\"\n",
    "\n",
    "model = mujoco.MjModel.from_xml_string(xml) # this makes a model out of the xml such that we can use it. \n",
    "\n",
    "data = mujoco.MjData(model)\n",
    "\n",
    "# Make renderer, render and show the pixels\n",
    "renderer = mujoco.Renderer(model)\n",
    "# media.show_image(renderer.render())\n",
    "\n",
    "mujoco.mj_forward(model, data)\n",
    "renderer.update_scene(data)\n",
    "\n",
    "media.show_image(renderer.render())"
   ]
  },
  {
   "cell_type": "markdown",
   "metadata": {},
   "source": [
    "Render the video"
   ]
  },
  {
   "cell_type": "code",
   "execution_count": 12,
   "metadata": {},
   "outputs": [],
   "source": [
    "#Specify location of ffmpeg\n",
    "import os\n",
    "\n",
    "# Specify the full path to ffmpeg\n",
    "# ffmpeg_path = \"/opt/homebrew/bin/ffmpeg\"\n",
    "\n",
    "ffmpeg_path = \"/Users/aida/miniconda3/bin/ffmpeg\"\n",
    "# Update the PATH environment variable to include the directory containing ffmpeg\n",
    "os.environ['PATH'] += os.pathsep + os.path.dirname(ffmpeg_path)\n"
   ]
  },
  {
   "cell_type": "code",
   "execution_count": 10,
   "metadata": {},
   "outputs": [
    {
     "name": "stdout",
     "output_type": "stream",
     "text": [
      "positions [1. 0. 0. 1. 0. 0. 0.]\n",
      "velocities [0. 0. 0. 0. 0. 0.]\n"
     ]
    }
   ],
   "source": [
    "print('positions', data.qpos)\n",
    "print('velocities', data.qvel)"
   ]
  },
  {
   "cell_type": "code",
   "execution_count": 13,
   "metadata": {},
   "outputs": [
    {
     "ename": "RuntimeError",
     "evalue": "Error writing '/var/folders/rk/g3gqh7090yqc7kf17z559cq00000gn/T/tmph4dnc73p/file.mp4': Unrecognized option 'qp'.\nError splitting the argument list: Option not found\n",
     "output_type": "error",
     "traceback": [
      "\u001b[0;31m---------------------------------------------------------------------------\u001b[0m",
      "\u001b[0;31mBrokenPipeError\u001b[0m                           Traceback (most recent call last)",
      "File \u001b[0;32m/Library/Frameworks/Python.framework/Versions/3.9/lib/python3.9/site-packages/mediapy/__init__.py:1749\u001b[0m, in \u001b[0;36mwrite_video\u001b[0;34m(path, images, **kwargs)\u001b[0m\n\u001b[1;32m   1748\u001b[0m \u001b[38;5;28;01mfor\u001b[39;00m image \u001b[38;5;129;01min\u001b[39;00m images:\n\u001b[0;32m-> 1749\u001b[0m   \u001b[43mwriter\u001b[49m\u001b[38;5;241;43m.\u001b[39;49m\u001b[43madd_image\u001b[49m\u001b[43m(\u001b[49m\u001b[43mimage\u001b[49m\u001b[43m)\u001b[49m\n",
      "File \u001b[0;32m/Library/Frameworks/Python.framework/Versions/3.9/lib/python3.9/site-packages/mediapy/__init__.py:1653\u001b[0m, in \u001b[0;36mVideoWriter.add_image\u001b[0;34m(self, image)\u001b[0m\n\u001b[1;32m   1652\u001b[0m \u001b[38;5;28;01massert\u001b[39;00m stdin \u001b[38;5;129;01mis\u001b[39;00m \u001b[38;5;129;01mnot\u001b[39;00m \u001b[38;5;28;01mNone\u001b[39;00m\n\u001b[0;32m-> 1653\u001b[0m \u001b[38;5;28;01mif\u001b[39;00m \u001b[43mstdin\u001b[49m\u001b[38;5;241;43m.\u001b[39;49m\u001b[43mwrite\u001b[49m\u001b[43m(\u001b[49m\u001b[43mdata\u001b[49m\u001b[43m)\u001b[49m \u001b[38;5;241m!=\u001b[39m \u001b[38;5;28mlen\u001b[39m(data):\n\u001b[1;32m   1654\u001b[0m   \u001b[38;5;28mself\u001b[39m\u001b[38;5;241m.\u001b[39m_proc\u001b[38;5;241m.\u001b[39mwait()\n",
      "\u001b[0;31mBrokenPipeError\u001b[0m: [Errno 32] Broken pipe",
      "\nDuring handling of the above exception, another exception occurred:\n",
      "\u001b[0;31mRuntimeError\u001b[0m                              Traceback (most recent call last)",
      "Cell \u001b[0;32mIn[13], line 14\u001b[0m\n\u001b[1;32m     11\u001b[0m     pixels \u001b[38;5;241m=\u001b[39m renderer\u001b[38;5;241m.\u001b[39mrender()\n\u001b[1;32m     12\u001b[0m     frames\u001b[38;5;241m.\u001b[39mappend(pixels)\n\u001b[0;32m---> 14\u001b[0m \u001b[43mmedia\u001b[49m\u001b[38;5;241;43m.\u001b[39;49m\u001b[43mshow_video\u001b[49m\u001b[43m(\u001b[49m\u001b[43mframes\u001b[49m\u001b[43m,\u001b[49m\u001b[43m \u001b[49m\u001b[43mfps\u001b[49m\u001b[38;5;241;43m=\u001b[39;49m\u001b[43mframerate\u001b[49m\u001b[43m)\u001b[49m\n",
      "File \u001b[0;32m/Library/Frameworks/Python.framework/Versions/3.9/lib/python3.9/site-packages/mediapy/__init__.py:1858\u001b[0m, in \u001b[0;36mshow_video\u001b[0;34m(images, title, **kwargs)\u001b[0m\n\u001b[1;32m   1835\u001b[0m \u001b[38;5;28;01mdef\u001b[39;00m \u001b[38;5;21mshow_video\u001b[39m(\n\u001b[1;32m   1836\u001b[0m     images: Iterable[_NDArray], \u001b[38;5;241m*\u001b[39m, title: \u001b[38;5;28mstr\u001b[39m \u001b[38;5;241m|\u001b[39m \u001b[38;5;28;01mNone\u001b[39;00m \u001b[38;5;241m=\u001b[39m \u001b[38;5;28;01mNone\u001b[39;00m, \u001b[38;5;241m*\u001b[39m\u001b[38;5;241m*\u001b[39mkwargs: Any\n\u001b[1;32m   1837\u001b[0m ) \u001b[38;5;241m-\u001b[39m\u001b[38;5;241m>\u001b[39m \u001b[38;5;28mstr\u001b[39m \u001b[38;5;241m|\u001b[39m \u001b[38;5;28;01mNone\u001b[39;00m:\n\u001b[1;32m   1838\u001b[0m \u001b[38;5;250m  \u001b[39m\u001b[38;5;124;03m\"\"\"Displays a video in the IPython notebook and optionally saves it to a file.\u001b[39;00m\n\u001b[1;32m   1839\u001b[0m \n\u001b[1;32m   1840\u001b[0m \u001b[38;5;124;03m  See `show_videos`.\u001b[39;00m\n\u001b[0;32m   (...)\u001b[0m\n\u001b[1;32m   1856\u001b[0m \u001b[38;5;124;03m    html string if `return_html` is `True`.\u001b[39;00m\n\u001b[1;32m   1857\u001b[0m \u001b[38;5;124;03m  \"\"\"\u001b[39;00m\n\u001b[0;32m-> 1858\u001b[0m   \u001b[38;5;28;01mreturn\u001b[39;00m \u001b[43mshow_videos\u001b[49m\u001b[43m(\u001b[49m\u001b[43m[\u001b[49m\u001b[43mimages\u001b[49m\u001b[43m]\u001b[49m\u001b[43m,\u001b[49m\u001b[43m \u001b[49m\u001b[43m[\u001b[49m\u001b[43mtitle\u001b[49m\u001b[43m]\u001b[49m\u001b[43m,\u001b[49m\u001b[43m \u001b[49m\u001b[38;5;241;43m*\u001b[39;49m\u001b[38;5;241;43m*\u001b[39;49m\u001b[43mkwargs\u001b[49m\u001b[43m)\u001b[49m\n",
      "File \u001b[0;32m/Library/Frameworks/Python.framework/Versions/3.9/lib/python3.9/site-packages/mediapy/__init__.py:1940\u001b[0m, in \u001b[0;36mshow_videos\u001b[0;34m(videos, titles, width, height, downsample, columns, fps, bps, qp, codec, ylabel, html_class, return_html, **kwargs)\u001b[0m\n\u001b[1;32m   1938\u001b[0m   video \u001b[38;5;241m=\u001b[39m [resize_image(image, (h, w)) \u001b[38;5;28;01mfor\u001b[39;00m image \u001b[38;5;129;01min\u001b[39;00m video]\n\u001b[1;32m   1939\u001b[0m   first_image \u001b[38;5;241m=\u001b[39m video[\u001b[38;5;241m0\u001b[39m]\n\u001b[0;32m-> 1940\u001b[0m data \u001b[38;5;241m=\u001b[39m \u001b[43mcompress_video\u001b[49m\u001b[43m(\u001b[49m\n\u001b[1;32m   1941\u001b[0m \u001b[43m    \u001b[49m\u001b[43mvideo\u001b[49m\u001b[43m,\u001b[49m\u001b[43m \u001b[49m\u001b[43mmetadata\u001b[49m\u001b[38;5;241;43m=\u001b[39;49m\u001b[43mmetadata\u001b[49m\u001b[43m,\u001b[49m\u001b[43m \u001b[49m\u001b[43mfps\u001b[49m\u001b[38;5;241;43m=\u001b[39;49m\u001b[43mfps\u001b[49m\u001b[43m,\u001b[49m\u001b[43m \u001b[49m\u001b[43mbps\u001b[49m\u001b[38;5;241;43m=\u001b[39;49m\u001b[43mbps\u001b[49m\u001b[43m,\u001b[49m\u001b[43m \u001b[49m\u001b[43mqp\u001b[49m\u001b[38;5;241;43m=\u001b[39;49m\u001b[43mqp\u001b[49m\u001b[43m,\u001b[49m\u001b[43m \u001b[49m\u001b[43mcodec\u001b[49m\u001b[38;5;241;43m=\u001b[39;49m\u001b[43mcodec\u001b[49m\n\u001b[1;32m   1942\u001b[0m \u001b[43m\u001b[49m\u001b[43m)\u001b[49m\n\u001b[1;32m   1943\u001b[0m \u001b[38;5;28;01mif\u001b[39;00m title \u001b[38;5;129;01mis\u001b[39;00m \u001b[38;5;129;01mnot\u001b[39;00m \u001b[38;5;28;01mNone\u001b[39;00m \u001b[38;5;129;01mand\u001b[39;00m _config\u001b[38;5;241m.\u001b[39mshow_save_dir:\n\u001b[1;32m   1944\u001b[0m   suffix \u001b[38;5;241m=\u001b[39m _filename_suffix_from_codec(codec)\n",
      "File \u001b[0;32m/Library/Frameworks/Python.framework/Versions/3.9/lib/python3.9/site-packages/mediapy/__init__.py:1777\u001b[0m, in \u001b[0;36mcompress_video\u001b[0;34m(images, codec, **kwargs)\u001b[0m\n\u001b[1;32m   1775\u001b[0m \u001b[38;5;28;01mwith\u001b[39;00m tempfile\u001b[38;5;241m.\u001b[39mTemporaryDirectory() \u001b[38;5;28;01mas\u001b[39;00m directory_name:\n\u001b[1;32m   1776\u001b[0m   tmp_path \u001b[38;5;241m=\u001b[39m pathlib\u001b[38;5;241m.\u001b[39mPath(directory_name) \u001b[38;5;241m/\u001b[39m \u001b[38;5;124mf\u001b[39m\u001b[38;5;124m'\u001b[39m\u001b[38;5;124mfile\u001b[39m\u001b[38;5;132;01m{\u001b[39;00msuffix\u001b[38;5;132;01m}\u001b[39;00m\u001b[38;5;124m'\u001b[39m\n\u001b[0;32m-> 1777\u001b[0m   \u001b[43mwrite_video\u001b[49m\u001b[43m(\u001b[49m\u001b[43mtmp_path\u001b[49m\u001b[43m,\u001b[49m\u001b[43m \u001b[49m\u001b[43mimages\u001b[49m\u001b[43m,\u001b[49m\u001b[43m \u001b[49m\u001b[43mcodec\u001b[49m\u001b[38;5;241;43m=\u001b[39;49m\u001b[43mcodec\u001b[49m\u001b[43m,\u001b[49m\u001b[43m \u001b[49m\u001b[38;5;241;43m*\u001b[39;49m\u001b[38;5;241;43m*\u001b[39;49m\u001b[43mkwargs\u001b[49m\u001b[43m)\u001b[49m\n\u001b[1;32m   1778\u001b[0m   \u001b[38;5;28;01mreturn\u001b[39;00m tmp_path\u001b[38;5;241m.\u001b[39mread_bytes()\n",
      "File \u001b[0;32m/Library/Frameworks/Python.framework/Versions/3.9/lib/python3.9/site-packages/mediapy/__init__.py:1749\u001b[0m, in \u001b[0;36mwrite_video\u001b[0;34m(path, images, **kwargs)\u001b[0m\n\u001b[1;32m   1747\u001b[0m \u001b[38;5;28;01mwith\u001b[39;00m VideoWriter(path, shape\u001b[38;5;241m=\u001b[39mshape, dtype\u001b[38;5;241m=\u001b[39mdtype, \u001b[38;5;241m*\u001b[39m\u001b[38;5;241m*\u001b[39mkwargs) \u001b[38;5;28;01mas\u001b[39;00m writer:\n\u001b[1;32m   1748\u001b[0m   \u001b[38;5;28;01mfor\u001b[39;00m image \u001b[38;5;129;01min\u001b[39;00m images:\n\u001b[0;32m-> 1749\u001b[0m     writer\u001b[38;5;241m.\u001b[39madd_image(image)\n",
      "File \u001b[0;32m/Library/Frameworks/Python.framework/Versions/3.9/lib/python3.9/site-packages/mediapy/__init__.py:1614\u001b[0m, in \u001b[0;36mVideoWriter.__exit__\u001b[0;34m(self, *_)\u001b[0m\n\u001b[1;32m   1613\u001b[0m \u001b[38;5;28;01mdef\u001b[39;00m \u001b[38;5;21m__exit__\u001b[39m(\u001b[38;5;28mself\u001b[39m, \u001b[38;5;241m*\u001b[39m_: Any) \u001b[38;5;241m-\u001b[39m\u001b[38;5;241m>\u001b[39m \u001b[38;5;28;01mNone\u001b[39;00m:\n\u001b[0;32m-> 1614\u001b[0m   \u001b[38;5;28;43mself\u001b[39;49m\u001b[38;5;241;43m.\u001b[39;49m\u001b[43mclose\u001b[49m\u001b[43m(\u001b[49m\u001b[43m)\u001b[49m\n",
      "File \u001b[0;32m/Library/Frameworks/Python.framework/Versions/3.9/lib/python3.9/site-packages/mediapy/__init__.py:1671\u001b[0m, in \u001b[0;36mVideoWriter.close\u001b[0;34m(self)\u001b[0m\n\u001b[1;32m   1669\u001b[0m   \u001b[38;5;28;01massert\u001b[39;00m stderr \u001b[38;5;129;01mis\u001b[39;00m \u001b[38;5;129;01mnot\u001b[39;00m \u001b[38;5;28;01mNone\u001b[39;00m\n\u001b[1;32m   1670\u001b[0m   s \u001b[38;5;241m=\u001b[39m stderr\u001b[38;5;241m.\u001b[39mread()\u001b[38;5;241m.\u001b[39mdecode()\n\u001b[0;32m-> 1671\u001b[0m   \u001b[38;5;28;01mraise\u001b[39;00m \u001b[38;5;167;01mRuntimeError\u001b[39;00m(\u001b[38;5;124mf\u001b[39m\u001b[38;5;124m\"\u001b[39m\u001b[38;5;124mError writing \u001b[39m\u001b[38;5;124m'\u001b[39m\u001b[38;5;132;01m{\u001b[39;00m\u001b[38;5;28mself\u001b[39m\u001b[38;5;241m.\u001b[39mpath\u001b[38;5;132;01m}\u001b[39;00m\u001b[38;5;124m'\u001b[39m\u001b[38;5;124m: \u001b[39m\u001b[38;5;132;01m{\u001b[39;00ms\u001b[38;5;132;01m}\u001b[39;00m\u001b[38;5;124m\"\u001b[39m)\n\u001b[1;32m   1672\u001b[0m \u001b[38;5;28mself\u001b[39m\u001b[38;5;241m.\u001b[39m_popen\u001b[38;5;241m.\u001b[39m\u001b[38;5;21m__exit__\u001b[39m(\u001b[38;5;28;01mNone\u001b[39;00m, \u001b[38;5;28;01mNone\u001b[39;00m, \u001b[38;5;28;01mNone\u001b[39;00m)\n\u001b[1;32m   1673\u001b[0m \u001b[38;5;28mself\u001b[39m\u001b[38;5;241m.\u001b[39m_popen \u001b[38;5;241m=\u001b[39m \u001b[38;5;28;01mNone\u001b[39;00m\n",
      "\u001b[0;31mRuntimeError\u001b[0m: Error writing '/var/folders/rk/g3gqh7090yqc7kf17z559cq00000gn/T/tmph4dnc73p/file.mp4': Unrecognized option 'qp'.\nError splitting the argument list: Option not found\n"
     ]
    }
   ],
   "source": [
    "duration = 4    # (seconds)\n",
    "framerate = 10  # (Hz) increase to 60 for smooth video\n",
    "\n",
    "# Simulate and display video.\n",
    "frames = []\n",
    "mujoco.mj_resetDataKeyframe(model, data, 0)  # Reset the state to keyframe 0\n",
    "while data.time < duration:\n",
    "  mujoco.mj_step(model, data)\n",
    "  if len(frames) < data.time * framerate:\n",
    "    renderer.update_scene(data)\n",
    "    pixels = renderer.render()\n",
    "    frames.append(pixels)\n",
    "\n",
    "media.show_video(frames, fps=framerate)"
   ]
  }
 ],
 "metadata": {
  "kernelspec": {
   "display_name": "Python 3",
   "language": "python",
   "name": "python3"
  },
  "language_info": {
   "codemirror_mode": {
    "name": "ipython",
    "version": 3
   },
   "file_extension": ".py",
   "mimetype": "text/x-python",
   "name": "python",
   "nbconvert_exporter": "python",
   "pygments_lexer": "ipython3",
   "version": "3.9.6"
  }
 },
 "nbformat": 4,
 "nbformat_minor": 2
}
