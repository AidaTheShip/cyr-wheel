{
 "cells": [
  {
   "cell_type": "code",
   "execution_count": 5,
   "metadata": {},
   "outputs": [
    {
     "name": "stdout",
     "output_type": "stream",
     "text": [
      "Requirement already satisfied: casadi in /Library/Frameworks/Python.framework/Versions/3.9/lib/python3.9/site-packages (from -r requirements.txt (line 1)) (3.6.5)\n",
      "Requirement already satisfied: numpy in /Library/Frameworks/Python.framework/Versions/3.9/lib/python3.9/site-packages (from -r requirements.txt (line 2)) (1.23.5)\n",
      "Requirement already satisfied: matplotlib in /Library/Frameworks/Python.framework/Versions/3.9/lib/python3.9/site-packages (from -r requirements.txt (line 3)) (3.6.0)\n",
      "Requirement already satisfied: sympy in /Library/Frameworks/Python.framework/Versions/3.9/lib/python3.9/site-packages (from -r requirements.txt (line 4)) (1.10.1)\n",
      "\u001b[33mWARNING: Retrying (Retry(total=4, connect=None, read=None, redirect=None, status=None)) after connection broken by 'NewConnectionError('<pip._vendor.urllib3.connection.HTTPSConnection object at 0x10246c3a0>: Failed to establish a new connection: [Errno 65] No route to host')': /simple/os/\u001b[0m\u001b[33m\n",
      "\u001b[0m\u001b[33mWARNING: Retrying (Retry(total=3, connect=None, read=None, redirect=None, status=None)) after connection broken by 'NewConnectionError('<pip._vendor.urllib3.connection.HTTPSConnection object at 0x10246cb50>: Failed to establish a new connection: [Errno 65] No route to host')': /simple/os/\u001b[0m\u001b[33m\n",
      "\u001b[0m\u001b[33mWARNING: Retrying (Retry(total=2, connect=None, read=None, redirect=None, status=None)) after connection broken by 'NewConnectionError('<pip._vendor.urllib3.connection.HTTPSConnection object at 0x10246ce50>: Failed to establish a new connection: [Errno 65] No route to host')': /simple/os/\u001b[0m\u001b[33m\n",
      "\u001b[0m\u001b[33mWARNING: Retrying (Retry(total=1, connect=None, read=None, redirect=None, status=None)) after connection broken by 'NewConnectionError('<pip._vendor.urllib3.connection.HTTPSConnection object at 0x10246cf40>: Failed to establish a new connection: [Errno 65] No route to host')': /simple/os/\u001b[0m\u001b[33m\n",
      "\u001b[0m^C\n",
      "\u001b[31mERROR: Operation cancelled by user\u001b[0m\u001b[31m\n",
      "\u001b[0mNote: you may need to restart the kernel to use updated packages.\n"
     ]
    }
   ],
   "source": [
    "pip install -r requirements.txt"
   ]
  },
  {
   "cell_type": "code",
   "execution_count": 4,
   "metadata": {},
   "outputs": [
    {
     "ename": "ImportError",
     "evalue": "cannot import name 'parse_mathematica' from 'sympy.parsing.mathematica' (/Library/Frameworks/Python.framework/Versions/3.9/lib/python3.9/site-packages/sympy/parsing/mathematica.py)",
     "output_type": "error",
     "traceback": [
      "\u001b[0;31m---------------------------------------------------------------------------\u001b[0m",
      "\u001b[0;31mImportError\u001b[0m                               Traceback (most recent call last)",
      "Cell \u001b[0;32mIn[4], line 6\u001b[0m\n\u001b[1;32m      4\u001b[0m \u001b[38;5;28;01mimport\u001b[39;00m \u001b[38;5;21;01msympy\u001b[39;00m\n\u001b[1;32m      5\u001b[0m \u001b[38;5;28;01mimport\u001b[39;00m \u001b[38;5;21;01mcasadi\u001b[39;00m\n\u001b[0;32m----> 6\u001b[0m \u001b[38;5;28;01mimport\u001b[39;00m \u001b[38;5;21;01mmodules\u001b[39;00m \u001b[38;5;28;01mas\u001b[39;00m \u001b[38;5;21;01mM\u001b[39;00m\n\u001b[1;32m      7\u001b[0m \u001b[38;5;28;01mimport\u001b[39;00m \u001b[38;5;21;01mos\u001b[39;00m\n\u001b[1;32m      8\u001b[0m \u001b[38;5;28;01mimport\u001b[39;00m \u001b[38;5;21;01mmatplotlib\u001b[39;00m\u001b[38;5;21;01m.\u001b[39;00m\u001b[38;5;21;01mpyplot\u001b[39;00m \u001b[38;5;28;01mas\u001b[39;00m \u001b[38;5;21;01mplt\u001b[39;00m\n",
      "File \u001b[0;32m~/Desktop/Other Projects/cyr-wheel/Control/modules.py:9\u001b[0m\n\u001b[1;32m      5\u001b[0m \u001b[38;5;28;01mimport\u001b[39;00m \u001b[38;5;21;01mcasadi\u001b[39;00m\n\u001b[1;32m      7\u001b[0m \u001b[38;5;28;01mfrom\u001b[39;00m \u001b[38;5;21;01msympy\u001b[39;00m\u001b[38;5;21;01m.\u001b[39;00m\u001b[38;5;21;01mutilities\u001b[39;00m\u001b[38;5;21;01m.\u001b[39;00m\u001b[38;5;21;01mlambdify\u001b[39;00m \u001b[38;5;28;01mimport\u001b[39;00m lambdify\n\u001b[0;32m----> 9\u001b[0m \u001b[38;5;28;01mfrom\u001b[39;00m \u001b[38;5;21;01msympy\u001b[39;00m\u001b[38;5;21;01m.\u001b[39;00m\u001b[38;5;21;01mparsing\u001b[39;00m\u001b[38;5;21;01m.\u001b[39;00m\u001b[38;5;21;01mmathematica\u001b[39;00m \u001b[38;5;28;01mimport\u001b[39;00m parse_mathematica\n\u001b[1;32m     13\u001b[0m \u001b[38;5;66;03m# angles\u001b[39;00m\n\u001b[1;32m     17\u001b[0m psi0 \u001b[38;5;241m=\u001b[39m sym\u001b[38;5;241m.\u001b[39msymbols(\u001b[38;5;124m'\u001b[39m\u001b[38;5;124mpsi0\u001b[39m\u001b[38;5;124m'\u001b[39m)\n",
      "\u001b[0;31mImportError\u001b[0m: cannot import name 'parse_mathematica' from 'sympy.parsing.mathematica' (/Library/Frameworks/Python.framework/Versions/3.9/lib/python3.9/site-packages/sympy/parsing/mathematica.py)"
     ]
    }
   ],
   "source": [
    "# %matplotlib notebook\n",
    "#%matplotlib inline\n",
    "import numpy as np\n",
    "import sympy\n",
    "import casadi\n",
    "import modules as M\n",
    "import os\n",
    "import matplotlib.pyplot as plt\n",
    "\n",
    "colorsBlue = ['#b3e5fc', '#0091ea']\n",
    "colorsRed = ['#f18e86', '#e83b47']\n",
    "colors = [colorsBlue, colorsRed]"
   ]
  },
  {
   "cell_type": "markdown",
   "metadata": {},
   "source": [
    "# Running the Simulation"
   ]
  },
  {
   "cell_type": "code",
   "execution_count": null,
   "metadata": {},
   "outputs": [],
   "source": [
    "m = 5\n",
    "casadi_EOM, x, u = M.get_casadi_EOM(m)\n",
    "energy_EQN = M.energy(m)\n",
    "\n",
    "# print(*casadi_EOM)\n",
    "\n",
    "ode = {}\n",
    "ode['x'] = x\n",
    "ode['p'] = u\n",
    "ode['ode'] = casadi.vertcat(*casadi_EOM)\n",
    "\n",
    "dt = 1e-2\n",
    "t = np.arange(0, dt * 2000, dt)\n",
    "\n",
    "F = casadi.integrator('F','cvodes', ode, 0, t)"
   ]
  },
  {
   "cell_type": "code",
   "execution_count": null,
   "metadata": {},
   "outputs": [],
   "source": [
    "# Stable general mode. inputs are: theta0, psi1 (cannot be 0!), m, and c0\n",
    "\n",
    "x0 = M.get_stable_mode(np.pi/2 - 0.5, 0.5, m, 0.4)\n",
    "print(x0)"
   ]
  },
  {
   "cell_type": "code",
   "execution_count": null,
   "metadata": {},
   "outputs": [],
   "source": [
    "# Stable travelling mode\n",
    "\n",
    "x0 = [0, np.pi/2 - 0.6, 0,\n",
    "      0,0,3,\n",
    "      0,0,\n",
    "      0.820964,0]\n",
    "\n",
    "print(x0)"
   ]
  },
  {
   "cell_type": "code",
   "execution_count": null,
   "metadata": {},
   "outputs": [],
   "source": [
    "# Stable spinning mode\n",
    "\n",
    "x0 = [0, np.pi/2 - 0.3, 0,\n",
    "      0.815932,0,0,\n",
    "      0,0,\n",
    "      0.38,0]\n",
    "\n",
    "print(x0)"
   ]
  },
  {
   "cell_type": "code",
   "execution_count": null,
   "metadata": {},
   "outputs": [],
   "source": [
    "res = F(x0 = x0, p = 0)\n",
    "# print(res[\"xf\"])\n",
    "traj_ss = np.array(res[\"xf\"]).T # ss = stable state\n",
    "# print(traj_ss)\n",
    "\n",
    "traj_CT = []\n",
    "traj_GC = []\n",
    "traj_EE = []\n",
    "for i in range(len(traj_ss)):\n",
    "    traj_CT.append(M.CT(traj_ss[i]))\n",
    "    traj_GC.append(M.GC(traj_ss[i]))\n",
    "    traj_EE.append(energy_EQN(*traj_ss[i])) # EE might be the energy expressed in terms of the trajectory in the lab frame\n",
    "traj_CT = np.array(traj_CT)\n",
    "traj_GC = np.array(traj_GC)\n",
    "traj_EE = np.array(traj_EE)"
   ]
  },
  {
   "cell_type": "code",
   "execution_count": null,
   "metadata": {},
   "outputs": [],
   "source": [
    "# plot the ConTact point trajectory and the Geometric Centre trajectory\n",
    "plt.figure()\n",
    "plt.axes().set_aspect(1)\n",
    "plt.plot(traj_CT.T[0], traj_CT.T[1], color = colors[0][1], label = 'contact point')\n",
    "plt.plot(traj_GC.T[0], traj_GC.T[1], color = colors[1][1], linestyle = 'dashed', label = 'geometric centre')\n",
    "\n",
    "plt.legend()"
   ]
  },
  {
   "cell_type": "code",
   "execution_count": null,
   "metadata": {},
   "outputs": [],
   "source": [
    "# plot the energy over time\n",
    "plt.figure()\n",
    "plt.plot(np.arange(0,dt*(len(traj_ss) - 0.5),dt), traj_EE)\n",
    "plt.savefig(\"\")"
   ]
  },
  {
   "cell_type": "code",
   "execution_count": null,
   "metadata": {},
   "outputs": [],
   "source": [
    "# plots of Euler angles and angular velocities\n",
    "\n",
    "fig, axes = plt.subplots(2, 3, figsize = (9, 6), sharex = True)\n",
    "axes = np.reshape(axes, -1)\n",
    "\n",
    "qty = ['psi0', 'theta0', 'phi0', 'psi1', 'theta1', 'phi1']\n",
    "\n",
    "for i in range(6):\n",
    "    axes[i].plot(np.arange(0,dt*(len(traj_ss) - 0.5),dt), traj_ss.T[i], color = colors[0][1])\n",
    "    axes[i].set_title(qty[i])"
   ]
  },
  {
   "cell_type": "code",
   "execution_count": null,
   "metadata": {},
   "outputs": [],
   "source": [
    "ax = plt.figure().add_subplot(projection='3d')\n",
    "\n",
    "os.makedirs('frames', exist_ok = True)\n",
    "skip_N = 20\n",
    "\n",
    "for i in range(len(traj_ss)):\n",
    "\n",
    "    if i % skip_N == 0:\n",
    "        print(\"Progress: {0:.1f}%\".format(100 * i/len(traj_ss)), end = '\\r')\n",
    "\n",
    "        M.DrawCircle(ax, traj_ss[i])\n",
    "\n",
    "        ax.plot(np.array(traj_GC[:i,0]),\n",
    "                np.array(traj_GC[:i,1]),\n",
    "                np.array(traj_GC[:i,2]),\n",
    "                color = 'red', zorder = 1)\n",
    "\n",
    "        ax.plot(np.array(traj_CT[:i,0]),\n",
    "                np.array(traj_CT[:i,1]),\n",
    "                np.array(traj_CT[:i,2]),\n",
    "                color = 'black', zorder = 1)\n",
    "\n",
    "        ax.set_xlabel('x')\n",
    "        ax.set_ylabel('y')\n",
    "        ax.set_zlabel('z')\n",
    "\n",
    "        ax.set_xlim(traj_GC[i,0] - 3, traj_GC[i,0] + 3)\n",
    "        ax.set_ylim(traj_GC[i,1] - 3, traj_GC[i,1] + 3)\n",
    "        #ax.set_xlim(- 4, + 4)\n",
    "        #ax.set_ylim(- 4, + 4)\n",
    "        ax.set_zlim(0, 6)\n",
    "\n",
    "        plt.savefig('frames/stable/{0:05d}.png'.format(i//skip_N))\n",
    "\n",
    "        ax.clear()"
   ]
  }
 ],
 "metadata": {
  "kernelspec": {
   "display_name": "Python 3",
   "language": "python",
   "name": "python3"
  },
  "language_info": {
   "codemirror_mode": {
    "name": "ipython",
    "version": 3
   },
   "file_extension": ".py",
   "mimetype": "text/x-python",
   "name": "python",
   "nbconvert_exporter": "python",
   "pygments_lexer": "ipython3",
   "version": "3.9.6"
  }
 },
 "nbformat": 4,
 "nbformat_minor": 2
}
