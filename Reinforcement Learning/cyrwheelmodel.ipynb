{
 "cells": [
  {
   "cell_type": "code",
   "execution_count": 1,
   "metadata": {},
   "outputs": [
    {
     "data": {
      "text/html": [
       "<table class=\"show_images\" style=\"border-spacing:0px;\"><tr><td style=\"padding:1px;\"><img width=\"320\" height=\"240\" style=\"image-rendering:auto; object-fit:cover;\" src=\"data:image/png;base64,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\"/></td></tr></table>"
      ],
      "text/plain": [
       "<IPython.core.display.HTML object>"
      ]
     },
     "metadata": {},
     "output_type": "display_data"
    }
   ],
   "source": [
    "import time \n",
    "import itertools \n",
    "import numpy as np\n",
    "import mediapy as media\n",
    "import matplotlib.pyplot as plt\n",
    "import mujoco\n",
    "\n",
    "np.set_printoptions(precision=3, suppress=True, linewidth=100)\n",
    "\n",
    "# Defining the wheel here...\n",
    "xml = \"\"\"\n",
    "<mujoco>\n",
    "    <asset>\n",
    "        <mesh name=\"cyrwheel_mesh\" file=\"cyrwheel.obj\"/>\n",
    "    </asset>\n",
    "    <worldbody>\n",
    "        <light name=\"top\" pos=\"0.1 0.1 0.1\"/>\n",
    "        <body name=\"cyrwheel\" pos=\"0 0 0\">\n",
    "            <geom type=\"mesh\" mesh=\"cyrwheel_mesh\" size=\".2 .2 .2\"/>\n",
    "        </body>\n",
    "        <geom name=\"red_box\" type=\"box\" size=\".2 .2 .2\" rgba=\"1 0 0 1\"/>\n",
    "    </worldbody>\n",
    "    \n",
    "</mujoco>\n",
    "\"\"\"\n",
    "\n",
    "model = mujoco.MjModel.from_xml_string(xml) # this makes a model out of the xml such that we can use it. \n",
    "\n",
    "data = mujoco.MjData(model)\n",
    "\n",
    "# Make renderer, render and show the pixels\n",
    "renderer = mujoco.Renderer(model)\n",
    "# media.show_image(renderer.render())\n",
    "\n",
    "mujoco.mj_forward(model, data)\n",
    "renderer.update_scene(data)\n",
    "\n",
    "media.show_image(renderer.render())"
   ]
  },
  {
   "cell_type": "code",
   "execution_count": 4,
   "metadata": {},
   "outputs": [
    {
     "ename": "ValueError",
     "evalue": "XML Error: Schema violation: unrecognized attribute: 'qp'\n\nElement 'key', line 19\n",
     "output_type": "error",
     "traceback": [
      "\u001b[0;31m---------------------------------------------------------------------------\u001b[0m",
      "\u001b[0;31mValueError\u001b[0m                                Traceback (most recent call last)",
      "Cell \u001b[0;32mIn[4], line 24\u001b[0m\n\u001b[1;32m      1\u001b[0m xml \u001b[38;5;241m=\u001b[39m \u001b[38;5;124m\"\"\"\u001b[39m\n\u001b[1;32m      2\u001b[0m \u001b[38;5;124m<mujoco>\u001b[39m\n\u001b[1;32m      3\u001b[0m \u001b[38;5;124m    <option integrator=\u001b[39m\u001b[38;5;124m\"\u001b[39m\u001b[38;5;124mRK4\u001b[39m\u001b[38;5;124m\"\u001b[39m\u001b[38;5;124m/>\u001b[39m\n\u001b[0;32m   (...)\u001b[0m\n\u001b[1;32m     22\u001b[0m \n\u001b[1;32m     23\u001b[0m \u001b[38;5;124m\"\"\"\u001b[39m\n\u001b[0;32m---> 24\u001b[0m model \u001b[38;5;241m=\u001b[39m \u001b[43mmujoco\u001b[49m\u001b[38;5;241;43m.\u001b[39;49m\u001b[43mMjModel\u001b[49m\u001b[38;5;241;43m.\u001b[39;49m\u001b[43mfrom_xml_string\u001b[49m\u001b[43m(\u001b[49m\u001b[43mxml\u001b[49m\u001b[43m)\u001b[49m\n\u001b[1;32m     25\u001b[0m renderer \u001b[38;5;241m=\u001b[39m mujoco\u001b[38;5;241m.\u001b[39mRenderer(model)\n\u001b[1;32m     26\u001b[0m data \u001b[38;5;241m=\u001b[39m mujoco\u001b[38;5;241m.\u001b[39mMjData(model)\n",
      "\u001b[0;31mValueError\u001b[0m: XML Error: Schema violation: unrecognized attribute: 'qp'\n\nElement 'key', line 19\n"
     ]
    }
   ],
   "source": [
    "xml = \"\"\"\n",
    "<mujoco>\n",
    "    <option integrator=\"RK4\"/>\n",
    "    <asset>\n",
    "        <mesh name=\"cyrwheel_mesh\" file=\"cyrwheel.obj\"/>\n",
    "        <texture name=\"grid\" type=\"2d\" builtin=\"checker\" rgb1=\".1 .2 .3\" rgb2=\".2 .3 .4\" width=\"300\" height=\"300\"/>\n",
    "        <material name=\"grid\" texture=\"grid\" texrepeat=\"8 8\" reflectance=\".2\"/>\n",
    "    </asset>\n",
    "    <worldbody>\n",
    "        <geom size=\"2 2 .01\" type=\"plane\" material=\"grid\"/>\n",
    "        <light name=\"top\" pos=\"0 0 1\"/>\n",
    "        <camera name=\"closeup\" pos=\"0 -105 105\" xyaxes=\"1 0 0 0 0 1\"/>\n",
    "        <body name=\"cyrwheel\" pos=\"0 0 0.2\">\n",
    "            <freejoint/>\n",
    "            <geom type=\"mesh\" mesh=\"cyrwheel_mesh\" size=\"0.2 0.2 0.2\"/>\n",
    "        </body>\n",
    "    </worldbody>\n",
    "    <keyframe>\n",
    "        <key name=\"spinning\" qp=\"1.5708 0 0 0 0 0 1\" qvel=\"0 0 0 0 1 200\" />\n",
    "    </keyframe>\n",
    "</mujoco>\n",
    "\n",
    "\"\"\"\n",
    "model = mujoco.MjModel.from_xml_string(xml)\n",
    "renderer = mujoco.Renderer(model)\n",
    "data = mujoco.MjData(model)\n",
    "mujoco.mj_forward(model, data)\n",
    "renderer.update_scene(data, camera=\"closeup\")\n",
    "media.show_image(renderer.render())"
   ]
  },
  {
   "cell_type": "code",
   "execution_count": 6,
   "metadata": {},
   "outputs": [
    {
     "ename": "RuntimeError",
     "evalue": "Error writing '/var/folders/rk/g3gqh7090yqc7kf17z559cq00000gn/T/tmpz0geax7n/file.mp4': Unrecognized option 'qp'.\nError splitting the argument list: Option not found\n",
     "output_type": "error",
     "traceback": [
      "\u001b[0;31m---------------------------------------------------------------------------\u001b[0m",
      "\u001b[0;31mBrokenPipeError\u001b[0m                           Traceback (most recent call last)",
      "File \u001b[0;32m/Library/Frameworks/Python.framework/Versions/3.9/lib/python3.9/site-packages/mediapy/__init__.py:1749\u001b[0m, in \u001b[0;36mwrite_video\u001b[0;34m(path, images, **kwargs)\u001b[0m\n\u001b[1;32m   1748\u001b[0m \u001b[38;5;28;01mfor\u001b[39;00m image \u001b[38;5;129;01min\u001b[39;00m images:\n\u001b[0;32m-> 1749\u001b[0m   \u001b[43mwriter\u001b[49m\u001b[38;5;241;43m.\u001b[39;49m\u001b[43madd_image\u001b[49m\u001b[43m(\u001b[49m\u001b[43mimage\u001b[49m\u001b[43m)\u001b[49m\n",
      "File \u001b[0;32m/Library/Frameworks/Python.framework/Versions/3.9/lib/python3.9/site-packages/mediapy/__init__.py:1653\u001b[0m, in \u001b[0;36mVideoWriter.add_image\u001b[0;34m(self, image)\u001b[0m\n\u001b[1;32m   1652\u001b[0m \u001b[38;5;28;01massert\u001b[39;00m stdin \u001b[38;5;129;01mis\u001b[39;00m \u001b[38;5;129;01mnot\u001b[39;00m \u001b[38;5;28;01mNone\u001b[39;00m\n\u001b[0;32m-> 1653\u001b[0m \u001b[38;5;28;01mif\u001b[39;00m \u001b[43mstdin\u001b[49m\u001b[38;5;241;43m.\u001b[39;49m\u001b[43mwrite\u001b[49m\u001b[43m(\u001b[49m\u001b[43mdata\u001b[49m\u001b[43m)\u001b[49m \u001b[38;5;241m!=\u001b[39m \u001b[38;5;28mlen\u001b[39m(data):\n\u001b[1;32m   1654\u001b[0m   \u001b[38;5;28mself\u001b[39m\u001b[38;5;241m.\u001b[39m_proc\u001b[38;5;241m.\u001b[39mwait()\n",
      "\u001b[0;31mBrokenPipeError\u001b[0m: [Errno 32] Broken pipe",
      "\nDuring handling of the above exception, another exception occurred:\n",
      "\u001b[0;31mRuntimeError\u001b[0m                              Traceback (most recent call last)",
      "Cell \u001b[0;32mIn[6], line 14\u001b[0m\n\u001b[1;32m     11\u001b[0m     pixels \u001b[38;5;241m=\u001b[39m renderer\u001b[38;5;241m.\u001b[39mrender()\n\u001b[1;32m     12\u001b[0m     frames\u001b[38;5;241m.\u001b[39mappend(pixels)\n\u001b[0;32m---> 14\u001b[0m \u001b[43mmedia\u001b[49m\u001b[38;5;241;43m.\u001b[39;49m\u001b[43mshow_video\u001b[49m\u001b[43m(\u001b[49m\u001b[43mframes\u001b[49m\u001b[43m,\u001b[49m\u001b[43m \u001b[49m\u001b[43mfps\u001b[49m\u001b[38;5;241;43m=\u001b[39;49m\u001b[43mframerate\u001b[49m\u001b[43m)\u001b[49m\n",
      "File \u001b[0;32m/Library/Frameworks/Python.framework/Versions/3.9/lib/python3.9/site-packages/mediapy/__init__.py:1858\u001b[0m, in \u001b[0;36mshow_video\u001b[0;34m(images, title, **kwargs)\u001b[0m\n\u001b[1;32m   1835\u001b[0m \u001b[38;5;28;01mdef\u001b[39;00m \u001b[38;5;21mshow_video\u001b[39m(\n\u001b[1;32m   1836\u001b[0m     images: Iterable[_NDArray], \u001b[38;5;241m*\u001b[39m, title: \u001b[38;5;28mstr\u001b[39m \u001b[38;5;241m|\u001b[39m \u001b[38;5;28;01mNone\u001b[39;00m \u001b[38;5;241m=\u001b[39m \u001b[38;5;28;01mNone\u001b[39;00m, \u001b[38;5;241m*\u001b[39m\u001b[38;5;241m*\u001b[39mkwargs: Any\n\u001b[1;32m   1837\u001b[0m ) \u001b[38;5;241m-\u001b[39m\u001b[38;5;241m>\u001b[39m \u001b[38;5;28mstr\u001b[39m \u001b[38;5;241m|\u001b[39m \u001b[38;5;28;01mNone\u001b[39;00m:\n\u001b[1;32m   1838\u001b[0m \u001b[38;5;250m  \u001b[39m\u001b[38;5;124;03m\"\"\"Displays a video in the IPython notebook and optionally saves it to a file.\u001b[39;00m\n\u001b[1;32m   1839\u001b[0m \n\u001b[1;32m   1840\u001b[0m \u001b[38;5;124;03m  See `show_videos`.\u001b[39;00m\n\u001b[0;32m   (...)\u001b[0m\n\u001b[1;32m   1856\u001b[0m \u001b[38;5;124;03m    html string if `return_html` is `True`.\u001b[39;00m\n\u001b[1;32m   1857\u001b[0m \u001b[38;5;124;03m  \"\"\"\u001b[39;00m\n\u001b[0;32m-> 1858\u001b[0m   \u001b[38;5;28;01mreturn\u001b[39;00m \u001b[43mshow_videos\u001b[49m\u001b[43m(\u001b[49m\u001b[43m[\u001b[49m\u001b[43mimages\u001b[49m\u001b[43m]\u001b[49m\u001b[43m,\u001b[49m\u001b[43m \u001b[49m\u001b[43m[\u001b[49m\u001b[43mtitle\u001b[49m\u001b[43m]\u001b[49m\u001b[43m,\u001b[49m\u001b[43m \u001b[49m\u001b[38;5;241;43m*\u001b[39;49m\u001b[38;5;241;43m*\u001b[39;49m\u001b[43mkwargs\u001b[49m\u001b[43m)\u001b[49m\n",
      "File \u001b[0;32m/Library/Frameworks/Python.framework/Versions/3.9/lib/python3.9/site-packages/mediapy/__init__.py:1940\u001b[0m, in \u001b[0;36mshow_videos\u001b[0;34m(videos, titles, width, height, downsample, columns, fps, bps, qp, codec, ylabel, html_class, return_html, **kwargs)\u001b[0m\n\u001b[1;32m   1938\u001b[0m   video \u001b[38;5;241m=\u001b[39m [resize_image(image, (h, w)) \u001b[38;5;28;01mfor\u001b[39;00m image \u001b[38;5;129;01min\u001b[39;00m video]\n\u001b[1;32m   1939\u001b[0m   first_image \u001b[38;5;241m=\u001b[39m video[\u001b[38;5;241m0\u001b[39m]\n\u001b[0;32m-> 1940\u001b[0m data \u001b[38;5;241m=\u001b[39m \u001b[43mcompress_video\u001b[49m\u001b[43m(\u001b[49m\n\u001b[1;32m   1941\u001b[0m \u001b[43m    \u001b[49m\u001b[43mvideo\u001b[49m\u001b[43m,\u001b[49m\u001b[43m \u001b[49m\u001b[43mmetadata\u001b[49m\u001b[38;5;241;43m=\u001b[39;49m\u001b[43mmetadata\u001b[49m\u001b[43m,\u001b[49m\u001b[43m \u001b[49m\u001b[43mfps\u001b[49m\u001b[38;5;241;43m=\u001b[39;49m\u001b[43mfps\u001b[49m\u001b[43m,\u001b[49m\u001b[43m \u001b[49m\u001b[43mbps\u001b[49m\u001b[38;5;241;43m=\u001b[39;49m\u001b[43mbps\u001b[49m\u001b[43m,\u001b[49m\u001b[43m \u001b[49m\u001b[43mqp\u001b[49m\u001b[38;5;241;43m=\u001b[39;49m\u001b[43mqp\u001b[49m\u001b[43m,\u001b[49m\u001b[43m \u001b[49m\u001b[43mcodec\u001b[49m\u001b[38;5;241;43m=\u001b[39;49m\u001b[43mcodec\u001b[49m\n\u001b[1;32m   1942\u001b[0m \u001b[43m\u001b[49m\u001b[43m)\u001b[49m\n\u001b[1;32m   1943\u001b[0m \u001b[38;5;28;01mif\u001b[39;00m title \u001b[38;5;129;01mis\u001b[39;00m \u001b[38;5;129;01mnot\u001b[39;00m \u001b[38;5;28;01mNone\u001b[39;00m \u001b[38;5;129;01mand\u001b[39;00m _config\u001b[38;5;241m.\u001b[39mshow_save_dir:\n\u001b[1;32m   1944\u001b[0m   suffix \u001b[38;5;241m=\u001b[39m _filename_suffix_from_codec(codec)\n",
      "File \u001b[0;32m/Library/Frameworks/Python.framework/Versions/3.9/lib/python3.9/site-packages/mediapy/__init__.py:1777\u001b[0m, in \u001b[0;36mcompress_video\u001b[0;34m(images, codec, **kwargs)\u001b[0m\n\u001b[1;32m   1775\u001b[0m \u001b[38;5;28;01mwith\u001b[39;00m tempfile\u001b[38;5;241m.\u001b[39mTemporaryDirectory() \u001b[38;5;28;01mas\u001b[39;00m directory_name:\n\u001b[1;32m   1776\u001b[0m   tmp_path \u001b[38;5;241m=\u001b[39m pathlib\u001b[38;5;241m.\u001b[39mPath(directory_name) \u001b[38;5;241m/\u001b[39m \u001b[38;5;124mf\u001b[39m\u001b[38;5;124m'\u001b[39m\u001b[38;5;124mfile\u001b[39m\u001b[38;5;132;01m{\u001b[39;00msuffix\u001b[38;5;132;01m}\u001b[39;00m\u001b[38;5;124m'\u001b[39m\n\u001b[0;32m-> 1777\u001b[0m   \u001b[43mwrite_video\u001b[49m\u001b[43m(\u001b[49m\u001b[43mtmp_path\u001b[49m\u001b[43m,\u001b[49m\u001b[43m \u001b[49m\u001b[43mimages\u001b[49m\u001b[43m,\u001b[49m\u001b[43m \u001b[49m\u001b[43mcodec\u001b[49m\u001b[38;5;241;43m=\u001b[39;49m\u001b[43mcodec\u001b[49m\u001b[43m,\u001b[49m\u001b[43m \u001b[49m\u001b[38;5;241;43m*\u001b[39;49m\u001b[38;5;241;43m*\u001b[39;49m\u001b[43mkwargs\u001b[49m\u001b[43m)\u001b[49m\n\u001b[1;32m   1778\u001b[0m   \u001b[38;5;28;01mreturn\u001b[39;00m tmp_path\u001b[38;5;241m.\u001b[39mread_bytes()\n",
      "File \u001b[0;32m/Library/Frameworks/Python.framework/Versions/3.9/lib/python3.9/site-packages/mediapy/__init__.py:1749\u001b[0m, in \u001b[0;36mwrite_video\u001b[0;34m(path, images, **kwargs)\u001b[0m\n\u001b[1;32m   1747\u001b[0m \u001b[38;5;28;01mwith\u001b[39;00m VideoWriter(path, shape\u001b[38;5;241m=\u001b[39mshape, dtype\u001b[38;5;241m=\u001b[39mdtype, \u001b[38;5;241m*\u001b[39m\u001b[38;5;241m*\u001b[39mkwargs) \u001b[38;5;28;01mas\u001b[39;00m writer:\n\u001b[1;32m   1748\u001b[0m   \u001b[38;5;28;01mfor\u001b[39;00m image \u001b[38;5;129;01min\u001b[39;00m images:\n\u001b[0;32m-> 1749\u001b[0m     writer\u001b[38;5;241m.\u001b[39madd_image(image)\n",
      "File \u001b[0;32m/Library/Frameworks/Python.framework/Versions/3.9/lib/python3.9/site-packages/mediapy/__init__.py:1614\u001b[0m, in \u001b[0;36mVideoWriter.__exit__\u001b[0;34m(self, *_)\u001b[0m\n\u001b[1;32m   1613\u001b[0m \u001b[38;5;28;01mdef\u001b[39;00m \u001b[38;5;21m__exit__\u001b[39m(\u001b[38;5;28mself\u001b[39m, \u001b[38;5;241m*\u001b[39m_: Any) \u001b[38;5;241m-\u001b[39m\u001b[38;5;241m>\u001b[39m \u001b[38;5;28;01mNone\u001b[39;00m:\n\u001b[0;32m-> 1614\u001b[0m   \u001b[38;5;28;43mself\u001b[39;49m\u001b[38;5;241;43m.\u001b[39;49m\u001b[43mclose\u001b[49m\u001b[43m(\u001b[49m\u001b[43m)\u001b[49m\n",
      "File \u001b[0;32m/Library/Frameworks/Python.framework/Versions/3.9/lib/python3.9/site-packages/mediapy/__init__.py:1671\u001b[0m, in \u001b[0;36mVideoWriter.close\u001b[0;34m(self)\u001b[0m\n\u001b[1;32m   1669\u001b[0m   \u001b[38;5;28;01massert\u001b[39;00m stderr \u001b[38;5;129;01mis\u001b[39;00m \u001b[38;5;129;01mnot\u001b[39;00m \u001b[38;5;28;01mNone\u001b[39;00m\n\u001b[1;32m   1670\u001b[0m   s \u001b[38;5;241m=\u001b[39m stderr\u001b[38;5;241m.\u001b[39mread()\u001b[38;5;241m.\u001b[39mdecode()\n\u001b[0;32m-> 1671\u001b[0m   \u001b[38;5;28;01mraise\u001b[39;00m \u001b[38;5;167;01mRuntimeError\u001b[39;00m(\u001b[38;5;124mf\u001b[39m\u001b[38;5;124m\"\u001b[39m\u001b[38;5;124mError writing \u001b[39m\u001b[38;5;124m'\u001b[39m\u001b[38;5;132;01m{\u001b[39;00m\u001b[38;5;28mself\u001b[39m\u001b[38;5;241m.\u001b[39mpath\u001b[38;5;132;01m}\u001b[39;00m\u001b[38;5;124m'\u001b[39m\u001b[38;5;124m: \u001b[39m\u001b[38;5;132;01m{\u001b[39;00ms\u001b[38;5;132;01m}\u001b[39;00m\u001b[38;5;124m\"\u001b[39m)\n\u001b[1;32m   1672\u001b[0m \u001b[38;5;28mself\u001b[39m\u001b[38;5;241m.\u001b[39m_popen\u001b[38;5;241m.\u001b[39m\u001b[38;5;21m__exit__\u001b[39m(\u001b[38;5;28;01mNone\u001b[39;00m, \u001b[38;5;28;01mNone\u001b[39;00m, \u001b[38;5;28;01mNone\u001b[39;00m)\n\u001b[1;32m   1673\u001b[0m \u001b[38;5;28mself\u001b[39m\u001b[38;5;241m.\u001b[39m_popen \u001b[38;5;241m=\u001b[39m \u001b[38;5;28;01mNone\u001b[39;00m\n",
      "\u001b[0;31mRuntimeError\u001b[0m: Error writing '/var/folders/rk/g3gqh7090yqc7kf17z559cq00000gn/T/tmpz0geax7n/file.mp4': Unrecognized option 'qp'.\nError splitting the argument list: Option not found\n"
     ]
    }
   ],
   "source": [
    "duration = 7    # (seconds)\n",
    "framerate = 60  # (Hz)\n",
    "\n",
    "# Simulate and display video.\n",
    "frames = []\n",
    "mujoco.mj_resetDataKeyframe(model, data, 0)  # Reset the state to keyframe 0\n",
    "while data.time < duration:\n",
    "  mujoco.mj_step(model, data)\n",
    "  if len(frames) < data.time * framerate:\n",
    "    renderer.update_scene(data, \"closeup\")\n",
    "    pixels = renderer.render()\n",
    "    frames.append(pixels)\n",
    "\n",
    "media.show_video(frames, fps=framerate)"
   ]
  }
 ],
 "metadata": {
  "kernelspec": {
   "display_name": "Python 3",
   "language": "python",
   "name": "python3"
  },
  "language_info": {
   "codemirror_mode": {
    "name": "ipython",
    "version": 3
   },
   "file_extension": ".py",
   "mimetype": "text/x-python",
   "name": "python",
   "nbconvert_exporter": "python",
   "pygments_lexer": "ipython3",
   "version": "3.9.6"
  }
 },
 "nbformat": 4,
 "nbformat_minor": 2
}
